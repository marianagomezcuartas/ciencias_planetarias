{
 "cells": [
  {
   "cell_type": "code",
   "execution_count": 4,
   "id": "4ec7cdb9",
   "metadata": {},
   "outputs": [
    {
     "name": "stdout",
     "output_type": "stream",
     "text": [
      "Note: you may need to restart the kernel to use updated packages.\n"
     ]
    }
   ],
   "source": [
    "%pip install -q numpy pandas matplotlib"
   ]
  },
  {
   "cell_type": "code",
   "execution_count": 3,
   "id": "34e135f9",
   "metadata": {},
   "outputs": [],
   "source": [
    "import numpy as np\n",
    "import pandas as pd\n",
    "import matplotlib.pyplot as plt"
   ]
  },
  {
   "cell_type": "code",
   "execution_count": null,
   "id": "171fe3f8",
   "metadata": {},
   "outputs": [
    {
     "name": "stdout",
     "output_type": "stream",
     "text": [
      "3.348837209302326e-27\n"
     ]
    }
   ],
   "source": [
    "AU = 1.5e11 #m\n",
    "\n",
    "l_fp = 0.1    #m\n",
    "r = 5 * AU    #m\n",
    "M_sol = 1.989e30   #kg\n",
    "#m_p = 1.6726e-27   #kg\n",
    "G = 6.67408e-11   #m^3 kg^-1 s^-2\n",
    "alfa = 1e-4\n",
    "k = 1.38065e-23  #J/k\n",
    "mu_H2 = 0.002016 / 6.02e23  #kg/mol\n",
    "\n",
    "print(mu_H2)"
   ]
  },
  {
   "cell_type": "code",
   "execution_count": null,
   "id": "544d6649",
   "metadata": {},
   "outputs": [
    {
     "name": "stdout",
     "output_type": "stream",
     "text": [
      "el valor de la temperatura es: 125.22 k\n",
      "el valor de la velocidad del sonido es: 718.51 m/s\n",
      "el valor de la viscosidad es: 71.85 m/s\n",
      "el valor del tiempo viscoso es: 7828728496860489056256.00 s\n",
      "el valor del tiempo viscoso es: 248077436080706.03 años\n"
     ]
    }
   ],
   "source": [
    "#@title modelo clásico\n",
    "\n",
    "T = 280 * (5)**(-1/2)   #K\n",
    "print(f'el valor de la temperatura es: {T:.2f} k')\n",
    "\n",
    "c_s = np.sqrt(k * T / (mu_H2))\n",
    "print(f'el valor de la velocidad del sonido es: {c_s:.2f} m/s')\n",
    "\n",
    "nu = c_s * l_fp\n",
    "print(f'el valor de la viscosidad es: {nu:.2f} m^2/s')\n",
    "\n",
    "t_v = r**2 / nu\n",
    "print(f'el valor del tiempo viscoso es: {t_v:.2f} s')\n",
    "\n",
    "t_v_años = t_v / (365.25 * 24 * 3600)\n",
    "print(f'el valor del tiempo viscoso es: {t_v_años:.2f} años')"
   ]
  },
  {
   "cell_type": "code",
   "execution_count": null,
   "id": "57efa7df",
   "metadata": {},
   "outputs": [
    {
     "data": {
      "text/plain": [
       "248077436080706.0"
      ]
     },
     "execution_count": 21,
     "metadata": {},
     "output_type": "execute_result"
    }
   ],
   "source": [
    "2.48077436080706e14"
   ]
  },
  {
   "cell_type": "code",
   "execution_count": 24,
   "id": "0faa454f",
   "metadata": {},
   "outputs": [
    {
     "name": "stdout",
     "output_type": "stream",
     "text": [
      "el valor de la temperatura es: 125.22 k\n",
      "el valor de la velocidad del sonido es: 718.51 m/s\n",
      "el valor de la frecuencia angular es: 1.7738675967125242e-08 rad/s\n",
      "el valor del espesor del disco es: 40505135974.65 m\n",
      "el valor del espesor del disco en AU es: 0.27 AU\n",
      "el valor de la viscosidad es: 2910324325.96 m/s\n",
      "el valor del tiempo viscoso es: 193277427873844.59 s\n",
      "el valor del tiempo viscoso es: 6124592.11 años\n"
     ]
    }
   ],
   "source": [
    "#@title modelo S-S\n",
    "\n",
    "T = 280 * (5)**(-1/2)   #K\n",
    "print(f'el valor de la temperatura es: {T:.2f} k')\n",
    "\n",
    "c_s = np.sqrt(k * T / (mu_H2))\n",
    "print(f'el valor de la velocidad del sonido es: {c_s:.2f} m/s')\n",
    "\n",
    "Omega = np.sqrt(G * M_sol / r**3)\n",
    "print(f'el valor de la frecuencia angular es: {Omega} rad/s')\n",
    "\n",
    "h = c_s / Omega\n",
    "print(f'el valor del espesor del disco es: {h:.2f} m')\n",
    "\n",
    "h_AU = h / AU\n",
    "print(f'el valor del espesor del disco en AU es: {h_AU:.2f} AU')\n",
    "\n",
    "nu = alfa * c_s * h\n",
    "print(f'el valor de la viscosidad es: {nu:.2f} m/s')\n",
    "\n",
    "t_v = r**2 / nu\n",
    "print(f'el valor del tiempo viscoso es: {t_v:.2f} s')\n",
    "\n",
    "t_v_años = t_v / (365.25 * 24 * 3600)\n",
    "print(f'el valor del tiempo viscoso es: {t_v_años:.2f} años')"
   ]
  },
  {
   "cell_type": "code",
   "execution_count": 20,
   "id": "8639c60a",
   "metadata": {},
   "outputs": [
    {
     "data": {
      "text/plain": [
       "6124592.0"
      ]
     },
     "execution_count": 20,
     "metadata": {},
     "output_type": "execute_result"
    }
   ],
   "source": [
    "6.124592e6"
   ]
  },
  {
   "cell_type": "code",
   "execution_count": null,
   "id": "e5bee399",
   "metadata": {},
   "outputs": [],
   "source": [
    "AU = 1.5e11 #m\n",
    "\n",
    "l_fp = 0.1    #m\n",
    "r = 5 * AU    #m\n",
    "M_sol = 1.989e30   #kg\n",
    "#m_p = 1.6726e-27   #kg\n",
    "G = 6.67408e-11   #m^3 kg^-1 s^-2\n",
    "alfa = 1e-4\n",
    "k = 1.38065e-23  #J/k\n",
    "mu_H2 = 0.002016 / 6.02e23  #kg/mol\n",
    "\n",
    "#@title modelo clásico\n",
    "\n",
    "T = 280 * (5)**(-1/2)   #K\n",
    "print(f'el valor de la temperatura es: {T:.2f} k')\n",
    "\n",
    "c_s = np.sqrt(k * T / (mu_H2))\n",
    "print(f'el valor de la velocidad del sonido es: {c_s:.2f} m/s')\n",
    "\n",
    "nu = c_s * l_fp\n",
    "print(f'el valor de la viscosidad es: {nu:.2f} m/s')\n",
    "\n",
    "t_v = r**2 / nu\n",
    "print(f'el valor del tiempo viscoso es: {t_v:.2f} s')\n",
    "\n",
    "t_v_años = t_v / (365.25 * 24 * 3600)\n",
    "print(f'el valor del tiempo viscoso es: {t_v_años:.2f} años')\n",
    "\n",
    "#@title modelo S-S\n",
    "\n",
    "T = 280 * (5)**(-1/2)   #K\n",
    "print(f'el valor de la temperatura es: {T:.2f} k')\n",
    "\n",
    "c_s = np.sqrt(k * T / (mu_H2))\n",
    "print(f'el valor de la velocidad del sonido es: {c_s:.2f} m/s')\n",
    "\n",
    "Omega = np.sqrt(G * M_sol / r**3)\n",
    "print(f'el valor de la frecuencia angular es: {Omega:.2f} rad/s')\n",
    "\n",
    "h = c_s / Omega\n",
    "print(f'el valor del espesor del disco es: {h:.2f} m')\n",
    "\n",
    "nu = alfa * c_s * h\n",
    "print(f'el valor de la viscosidad es: {nu:.2f} m/s')\n",
    "\n",
    "t_v = r**2 / nu\n",
    "print(f'el valor del tiempo viscoso es: {t_v:.2f} s')\n",
    "\n",
    "t_v_años = t_v / (365.25 * 24 * 3600)\n",
    "print(f'el valor del tiempo viscoso es: {t_v_años:.2f} años')"
   ]
  }
 ],
 "metadata": {
  "kernelspec": {
   "display_name": ".venv",
   "language": "python",
   "name": "python3"
  },
  "language_info": {
   "codemirror_mode": {
    "name": "ipython",
    "version": 3
   },
   "file_extension": ".py",
   "mimetype": "text/x-python",
   "name": "python",
   "nbconvert_exporter": "python",
   "pygments_lexer": "ipython3",
   "version": "3.11.9"
  }
 },
 "nbformat": 4,
 "nbformat_minor": 5
}
