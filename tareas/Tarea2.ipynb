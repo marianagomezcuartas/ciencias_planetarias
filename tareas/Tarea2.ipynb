{
 "cells": [
  {
   "cell_type": "markdown",
   "id": "104f50b8",
   "metadata": {},
   "source": [
    "La tarea #2 es la siguiente...\n",
    "\n",
    "1. Investigar los valores del peso molecular medio de las partículas en el Medio Interestelar, para una nube difusa y una nube molecular gigante.\n",
    "\n",
    "2. Masa de Jeans:\n",
    "\n",
    "Para una nube difusa de Hidrógeno, la T = 50 K, n = 10⁸ m⁻³. Si se asume que la nube está compuesta principalmente de hidrógeno atómico HI, ¿cual sería la masa mínima necesaria para causar el colapso espontáneo de la nube? Expresarla en masas solares.\n",
    "\n",
    "Ahora considere un núcleo denso dentro de una nube molecular gigante, con T = 10 K, n = 10¹⁰ m⁻³. Éste núcleo está compuesto principalmente de hidrógeno molecular H2 ¿Cual sería ahora la masa mínima necesaria para producir el colapso? Expresarla en masas solares.\n",
    "\n",
    "3. Radio de Jeans ¿Cual es el radio de Jeans para ambos casos? Expresarlo en parsecs.\n",
    "\n",
    "4. Calcular el tiempo nuclear para el Sol.\n",
    "\n",
    "NOTA: Sacar conclusiones de sus resultados!!"
   ]
  },
  {
   "cell_type": "markdown",
   "id": "a43031cc",
   "metadata": {},
   "source": [
    "\\textbf{Nume molecular}"
   ]
  },
  {
   "cell_type": "code",
   "execution_count": null,
   "metadata": {},
   "outputs": [],
   "source": []
  }
 ],
 "metadata": {
  "language_info": {
   "name": "python"
  }
 },
 "nbformat": 4,
 "nbformat_minor": 5
}
