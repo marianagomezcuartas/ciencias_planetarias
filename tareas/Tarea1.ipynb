{
 "cells": [
  {
   "cell_type": "markdown",
   "id": "2ea0868a",
   "metadata": {},
   "source": [
    "\\section{Cómo Cavendish calculó la constante de gravitación}\n",
    "\n",
    "Henry Cavendish, nacido en 1731, fue un físico y químico británico que realizó experimentos fundamentales en la historia de la ciencia. Uno de sus logros más notables fue la medición de la densidad de la Tierra, lo que le permitió calcular la constante de gravitación universal, \\(G\\). Este experimento se conoce como el experimento de Cavendish.\n",
    "\n",
    "La idea que tenía era revolucionaria, pues no hay forma de ausentarse de la tierra para verla y estudiarla desde lejos, por suerte, contaba con la \\textbf{mecánica Newtoniana.}\n",
    "\n",
    "\\subsection{El experimento de Cavendish}\n",
    "La idea se basaba en la medición de la fuerza que un cuerpo ejerce sobre otro, y haciendo uso de la segunda ley de Newton se puede calcular la masa de la Tierra. Para ello, Cavendish utilizó un dispositivo que consistía en una barra horizontal de madera suspendida por un hilo delgado, con dos esferas de plomo en cada extremo. En este montaje, también puso dos esferas pequeñas estacionarias, las cuales eran atraídas por las grandes, lo cual hacía que la barra girara y por lo tanto se torciera el hilo.\n",
    "\n",
    "Es importante tener en cuenta que los movimientos eran muy pequeños, con lo cual surge la necesidad de aumentar la precisión en la medición. Para ello, Cavendish diseñó un sistema óptico que le permitía amplificar el efecto del experimento, y con ello poder tener medidas de alta precisión; además de esto, el experimento se realizaba en un cuarto cerrado, que observaba de lejos con un telescopio, para evitar que el aire o cualquier otra perturbación afectara el resultado.\n",
    "\n",
    "Debido a que la desviación era proporcional a la fuerza gravitacional, Cavendish pudo medir la fuerza gravitacional entre las esferas y calcular el valor de \\(G\\). Una vez conocido el valor de \\(G\\), Cavendish pudo calcular la masa de la Tierra utilizando la ley de gravitación universal de Newton.\n",
    "\n",
    "\\subsection{Ecuación empleada}\n",
    "La ecuación asociada a la ley de gravitación universal:\n",
    "\n",
    "\\begin{equation}\n",
    "\\label{eq:gravitacion}\n",
    "    F = \\frac{G m_1 m_2}{R^2}\n",
    "\\end{equation}\n",
    "\n",
    "donde \\(F\\) es la fuerza gravitacional entre dos masas \\(m_1\\) y \\(m_2\\), \\(R\\) es la distancia entre los centros de las masas y \\(G\\) es la constante de gravitación universal.\n",
    "\n"
   ]
  },
  {
   "cell_type": "markdown",
   "id": "b41d186f",
   "metadata": {},
   "source": []
  },
  {
   "cell_type": "markdown",
   "id": "6eae2d98",
   "metadata": {},
   "source": [
    "\\section{Ejercicio práctico}\n",
    "\n",
    "\\textbf{Usar una manzana de 200g para calcular la masa de la Tierra.}\n",
    "Para resolver este problema, usamos la siguiente ecuación:\n",
    "\n",
    "\\begin{equation}\n",
    "    F = \\frac{G m M}{R^2}\n",
    "\\end{equation}\n",
    "\n",
    "\n",
    "donde \\(F\\) es la fuerza gravitacional entre la manzana y la Tierra, \\(m\\) es la masa de la manzana, \\(M\\) es la masa de la Tierra, \\(R\\) es la distancia entre los centros de las masas (aproximadamente el radio de la Tierra) y \\(G\\) es la constante de gravitación universal.\\\\\n",
    "\n",
    "Por otro lado:\n",
    "\n",
    "\\begin{equation}\n",
    "    F = m g\n",
    "\\end{equation}\n",
    "\n",
    "Igualando:\\\\\n",
    "\n",
    "\\begin{equation}\n",
    "    m g = \\frac{G m M}{R^2} \n",
    "\\end{equation}\n",
    "\n",
    "Dividiendo ambos lados entre \\(m\\):\\\\\n",
    "\\begin{equation}\n",
    "    g = \\frac{G M}{R^2}\n",
    "\\end{equation}\n",
    "\n",
    "Despejando \\(M\\):\\\\\n",
    "\\begin{equation}\n",
    "\\label{eq:masa}\n",
    "    M = \\frac{g R^2}{G} \n",
    "\\end{equation}\n",
    "\n",
    "Los valores a sustituir son los siguientes:\n",
    "\\begin{itemize}\n",
    "    \\item \\(g = 9.8 \\, \\text{m/s}^2\\)\n",
    "    \\item \\(R = 6.371 \\times 10^6 \\, \\text{m}\\)\n",
    "    \\item \\(G = 6.674 \\times 10^{-11} \\, \\text{N m}^2/\\text{kg}^2\\)\n",
    "\\end{itemize}\n",
    "\n",
    "Sustituyendo los valores en la ecuación \\ref{eq:masa}:\\\\\n",
    "\\begin{equation}\n",
    "    M = \\frac{(9.8)(6.371 \\times 10^6)^2}{6.674 \\times 10^{-11}}\n",
    "\\end{equation}\n",
    "\n",
    "Resolviendo la ecuación, obtenemos:\n",
    "\\begin{equation}\n",
    "    M \\approx 5.98 \\times 10^{24} \\, \\text{kg}\n",
    "\\end{equation}\n",
    "\n",
    "\n",
    "Este resultado es muy cercano al valor aceptado actualmente para la masa de la Tierra, que es aproximadamente \\(5.972 \\times 10^{24} \\, \\text{kg}\\). Esto demuestra la precisión del experimento de Cavendish y su importancia en la historia de la ciencia."
   ]
  },
  {
   "cell_type": "markdown",
   "id": "a7262c1f",
   "metadata": {},
   "source": [
    "# referencias"
   ]
  },
  {
   "cell_type": "markdown",
   "id": "097aa59c",
   "metadata": {},
   "source": [
    "@article{freire-2025,\n",
    "\tauthor = {Freire, Noelia},\n",
    "\tmonth = {1},\n",
    "\ttitle = {{El experimento de Cavendish, o cómo sabemos cuánto pesa la Tierra}},\n",
    "\tyear = {2025},\n",
    "\turl = {https://www.nationalgeographic.com.es/ciencia/experimento-cavendish-como-sabemos-cuanto-pesa-tierra_23993},\n",
    "}\n",
    "\n",
    "@misc{redaccion-2019,\n",
    "\tauthor = {Redacción},\n",
    "\tmonth = {3},\n",
    "\ttitle = {{G, el diminuto número sin el que la vida no existiría}},\n",
    "\tyear = {2019},\n",
    "\turl = {https://www.bbc.com/mundo/noticias-47640877},\n",
    "}"
   ]
  },
  {
   "cell_type": "markdown",
   "id": "b048b9cc",
   "metadata": {},
   "source": [
    "$F = m a = mg = G \\frac{m M}{R^2}$"
   ]
  },
  {
   "cell_type": "markdown",
   "id": "39e2dd1a",
   "metadata": {},
   "source": [
    "R mayúscula es el radio de la Tierra\n",
    "es la fuerza que siente la manzana debido a la Tierra"
   ]
  },
  {
   "cell_type": "code",
   "execution_count": null,
   "id": "8064689f",
   "metadata": {
    "vscode": {
     "languageId": "markdown"
    }
   },
   "outputs": [],
   "source": [
    "# El experimento de Cavendish para calcular G\n",
    "\n",
    "En 1798, Henry Cavendish realizó un experimento para medir la constante de gravitación universal (G) utilizando una balanza de torsión.\n",
    "\n",
    "## Método experimental\n",
    "1. Utilizó una balanza de torsión con dos pequeñas esferas de plomo fijadas en los extremos de una varilla horizontal suspendida por un hilo delgado.\n",
    "2. Colocó dos esferas de plomo más grandes cerca de las pequeñas.\n",
    "3. La atracción gravitacional entre las masas causaba una torsión en el hilo.\n",
    "4. Midiendo el ángulo de torsión, pudo calcular la fuerza gravitacional.\n",
    "5. Conociendo las masas y distancias, determinó G mediante la ley de gravitación de Newton.\n",
    "\n",
    "El valor que Cavendish obtuvo fue aproximadamente 6.74×10⁻¹¹ m³·kg⁻¹·s⁻², cercano al valor moderno de 6.67430×10⁻¹¹ m³·kg⁻¹·s⁻².\n",
    "\n",
    "## Referencias\n",
    "- Cavendish, H. (1798). \"Experiments to Determine the Density of the Earth\". *Philosophical Transactions of the Royal Society of London*, Vol. 88, pp. 469–526.\n",
    "- Clotfelter, B. E. (1987). \"The Cavendish Experiment as Cavendish Knew It\". *American Journal of Physics*, 55(3), 210-213.\n",
    "- Speake, C. C., & Quinn, T. J. (1999). \"The Gravitational Constant: Theory and Experiment 200 Years after Cavendish\". *Measurement Science and Technology*, 10(6), 467-469."
   ]
  },
  {
   "cell_type": "code",
   "execution_count": null,
   "id": "590d6de3",
   "metadata": {
    "vscode": {
     "languageId": "markdown"
    }
   },
   "outputs": [],
   "source": [
    "# Cálculo de la Constante de Gravitación Universal por Cavendish\n",
    "\n",
    "Cavendish utilizó una metodología precisa para calcular el valor de G:\n",
    "\n",
    "## Procedimiento de cálculo\n",
    "1. Midió el periodo de oscilación (T) de la balanza de torsión.\n",
    "2. Determinó la constante de torsión (κ) del hilo.\n",
    "3. Registró la deflexión angular (θ) causada por la atracción gravitacional.\n",
    "4. Aplicó la ecuación: G = (κθL)/(2πmMd), donde:\n",
    "    - L: longitud de la varilla\n",
    "    - m: masa de las esferas pequeñas\n",
    "    - M: masa de las esferas grandes\n",
    "    - d: distancia entre los centros de las esferas\n",
    "\n",
    "Cavendish no buscaba directamente calcular G (este término fue introducido posteriormente por Boys), sino que su objetivo original era medir la densidad de la Tierra.\n",
    "\n"
   ]
  }
 ],
 "metadata": {
  "language_info": {
   "name": "python"
  }
 },
 "nbformat": 4,
 "nbformat_minor": 5
}
