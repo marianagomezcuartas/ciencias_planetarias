{
 "cells": [
  {
   "cell_type": "markdown",
   "id": "2ea0868a",
   "metadata": {},
   "source": [
    "\\section{Cómo Cavendish calculó la constante de gravitación}\n",
    "\\label{sec:cavendish}\n"
   ]
  },
  {
   "cell_type": "markdown",
   "id": "b048b9cc",
   "metadata": {},
   "source": [
    "$F = m a = mg = G \\frac{m M}{R^2}$"
   ]
  },
  {
   "cell_type": "markdown",
   "id": "39e2dd1a",
   "metadata": {},
   "source": [
    "R mayúscula es el radio de la Tierra\n",
    "es la fuerza que siente la manzana debido a la Tierra"
   ]
  },
  {
   "cell_type": "code",
   "execution_count": null,
   "id": "8064689f",
   "metadata": {
    "vscode": {
     "languageId": "markdown"
    }
   },
   "outputs": [],
   "source": [
    "# El experimento de Cavendish para calcular G\n",
    "\n",
    "En 1798, Henry Cavendish realizó un experimento para medir la constante de gravitación universal (G) utilizando una balanza de torsión.\n",
    "\n",
    "## Método experimental\n",
    "1. Utilizó una balanza de torsión con dos pequeñas esferas de plomo fijadas en los extremos de una varilla horizontal suspendida por un hilo delgado.\n",
    "2. Colocó dos esferas de plomo más grandes cerca de las pequeñas.\n",
    "3. La atracción gravitacional entre las masas causaba una torsión en el hilo.\n",
    "4. Midiendo el ángulo de torsión, pudo calcular la fuerza gravitacional.\n",
    "5. Conociendo las masas y distancias, determinó G mediante la ley de gravitación de Newton.\n",
    "\n",
    "El valor que Cavendish obtuvo fue aproximadamente 6.74×10⁻¹¹ m³·kg⁻¹·s⁻², cercano al valor moderno de 6.67430×10⁻¹¹ m³·kg⁻¹·s⁻².\n",
    "\n",
    "## Referencias\n",
    "- Cavendish, H. (1798). \"Experiments to Determine the Density of the Earth\". *Philosophical Transactions of the Royal Society of London*, Vol. 88, pp. 469–526.\n",
    "- Clotfelter, B. E. (1987). \"The Cavendish Experiment as Cavendish Knew It\". *American Journal of Physics*, 55(3), 210-213.\n",
    "- Speake, C. C., & Quinn, T. J. (1999). \"The Gravitational Constant: Theory and Experiment 200 Years after Cavendish\". *Measurement Science and Technology*, 10(6), 467-469."
   ]
  },
  {
   "cell_type": "code",
   "execution_count": null,
   "id": "590d6de3",
   "metadata": {
    "vscode": {
     "languageId": "markdown"
    }
   },
   "outputs": [],
   "source": [
    "# Cálculo de la Constante de Gravitación Universal por Cavendish\n",
    "\n",
    "Cavendish utilizó una metodología precisa para calcular el valor de G:\n",
    "\n",
    "## Procedimiento de cálculo\n",
    "1. Midió el periodo de oscilación (T) de la balanza de torsión.\n",
    "2. Determinó la constante de torsión (κ) del hilo.\n",
    "3. Registró la deflexión angular (θ) causada por la atracción gravitacional.\n",
    "4. Aplicó la ecuación: G = (κθL)/(2πmMd), donde:\n",
    "    - L: longitud de la varilla\n",
    "    - m: masa de las esferas pequeñas\n",
    "    - M: masa de las esferas grandes\n",
    "    - d: distancia entre los centros de las esferas\n",
    "\n",
    "Cavendish no buscaba directamente calcular G (este término fue introducido posteriormente por Boys), sino que su objetivo original era medir la densidad de la Tierra.\n",
    "\n",
    "## Referencias online\n",
    "- [NASA: The Cavendish Experiment](https://www.grc.nasa.gov/WWW/K-12/Numbers/Math/Mathematical_Thinking/cavendish_experiment.htm)\n",
    "- [The Physics Classroom: The Cavendish Experiment](https://www.physicsclassroom.com/class/circles/Lesson-3/Newton-s-Law-of-Universal-Gravitation)\n",
    "- [American Journal of Physics (online)](https://doi.org/10.1119/1.15211)\n",
    "- [NIST: Fundamental Physical Constants](https://physics.nist.gov/cgi-bin/cuu/Value?bg|search_for=universal_in!)\n",
    "- [University of Washington: The Cavendish Experiment](https://www.phys.washington.edu/users/jeff/courses/421/cavendish/cavendish_modern.doc)"
   ]
  }
 ],
 "metadata": {
  "language_info": {
   "name": "python"
  }
 },
 "nbformat": 4,
 "nbformat_minor": 5
}
