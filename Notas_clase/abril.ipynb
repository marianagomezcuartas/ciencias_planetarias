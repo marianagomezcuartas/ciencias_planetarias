{
 "cells": [
  {
   "cell_type": "markdown",
   "id": "95229aaa",
   "metadata": {},
   "source": [
    "# Abril 11"
   ]
  },
  {
   "cell_type": "markdown",
   "id": "905d45e2",
   "metadata": {},
   "source": [
    "- La velocidad de escape es la que se necesita para que un cuerpo escape de la interaccion gravitacional de la Tierra\n",
    "\n",
    "- La velocidad de inserción es aquella a la que la debo tirar para que orbite alrededor de la tierra, y en principio \n",
    "regresé a donde la tiré (inserción en órbita)\n",
    "\n",
    "$$v_e = \\sqrt{\\frac{2GM}{r}}$$\n",
    "\n",
    "$$v_i = \\sqrt{\\frac{GM}{r}}$$\n",
    "\n",
    "La velocidad de escape es mayor que la de inserción, y la diferencia es que la de escape es mayor porque no quiero que regrese.\n",
    "\n",
    "### problema de los N cuerpos\n",
    "Hay 6N variables, pero siempre 10 constantes. Por lo tanto, no es posible resolverlo analíticamente.\n",
    "Hay algunas aproximaciones para resolver este problema.\n",
    "\n",
    "- Problema de las perturbaciones\n",
    "\n",
    "- Sistema de Lagrange de N cuerpos\n",
    "\n",
    "- Problema restringido de los 3 cuerpos\n",
    "\n",
    "- Método de las perturbaciones especiales\n",
    "\n",
    "### movimiento de mercurio\n",
    "- había discrepancia entre lo que se observaba y lo que se predecía con la teoría de Newton\n",
    "- Einstein lo soluciona, se trata de un problema relativista (efecto de la curvatura del espacio-tiempo)\n",
    "\n",
    "### Asteroides en el cinturón principal\n",
    "- Se encuentran entre Marte y Júpiter, y son los restos de la formación del sistema solar. Se trata de material que Júpiter no dejó que se acretara para formar un planeta.\n",
    "- El efecto de Júpiter con las órbitas de asteoides ...... fuerzas T y R principalmente.\n",
    "- Las brechas de kirkwood son zonas donde no hay asteroides, y se deben a resonancias orbitales con Júpiter.\n",
    "- Resonancia 1:2, 2:3, 3:4, etc. (se trata de la relación entre el periodo de un asteroide y el de Júpiter). Por ejemplo, si un asteroide tiene un periodo de 2 años y Júpiter de 3, entonces cada 6 años se alinean y el asteroide es perturbado por Júpiter. Esto hace que su órbita cambie y eventualmente se aleje del cinturón principal.\n",
    "\n",
    "### Otros ejemplos de perturbaciones\n",
    "- Las lunas marianas están en resonancia. Gegeneración de marea y calor interno.\n",
    "\n",
    "### Problema restringido de los 3 cuerpos\n",
    "- Un objeto es muy pequeño comparado con los otros dos, y no afecta a su movimiento. Por ejemplo, un satélite en órbita de la Tierra.\n",
    "- Se usa un sistema de referencia donde los dos cuerpos grandes están fijos, y el tercer cuerpo se mueve en un campo gravitacional que depende de la posición de los otros dos cuerpos. Se trata de un problema de 4 variables (x,y,z,t), y se puede resolver analíticamente.\n",
    "- Se pueden encontrar soluciones periódicas (puntos de Lagrange) y caóticas (puntos de Lyapunov)."
   ]
  }
 ],
 "metadata": {
  "language_info": {
   "name": "python"
  }
 },
 "nbformat": 4,
 "nbformat_minor": 5
}
