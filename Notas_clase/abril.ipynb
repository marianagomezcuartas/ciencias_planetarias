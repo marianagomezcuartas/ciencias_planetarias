{
 "cells": [
  {
   "cell_type": "markdown",
   "id": "95229aaa",
   "metadata": {},
   "source": [
    "## Abril 11\n",
    "\n",
    "- La velocidad de escape es la que se necesita para que un cuerpo escape de la interaccion gravitacional de la Tierra\n",
    "\n",
    "- La velocidad de inserción es aquella a la que la debo tirar para que orbite alrededor de la tierra, y en principio \n",
    "regresé a donde la tiré (inserción en órbita)\n",
    "\n",
    "$$v_e = \\sqrt{\\frac{2GM}{r}}$$\n",
    "\n",
    "$$v_i = \\sqrt{\\frac{GM}{r}}$$\n",
    "\n",
    "La velocidad de escape es mayor que la de inserción, y la diferencia es que la de escape es mayor porque no quiero que regrese."
   ]
  }
 ],
 "metadata": {
  "language_info": {
   "name": "python"
  }
 },
 "nbformat": 4,
 "nbformat_minor": 5
}
