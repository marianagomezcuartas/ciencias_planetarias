{
 "cells": [
  {
   "cell_type": "markdown",
   "id": "95229aaa",
   "metadata": {},
   "source": [
    "# Abril 11"
   ]
  },
  {
   "cell_type": "markdown",
   "id": "905d45e2",
   "metadata": {},
   "source": [
    "- La velocidad de escape es la que se necesita para que un cuerpo escape de la interaccion gravitacional de la Tierra\n",
    "\n",
    "- La velocidad de inserción es aquella a la que la debo tirar para que orbite alrededor de la tierra, y en principio \n",
    "regresé a donde la tiré (inserción en órbita)\n",
    "\n",
    "$$v_e = \\sqrt{\\frac{2GM}{r}}$$\n",
    "\n",
    "$$v_i = \\sqrt{\\frac{GM}{r}}$$\n",
    "\n",
    "La velocidad de escape es mayor que la de inserción, y la diferencia es que la de escape es mayor porque no quiero que regrese.\n",
    "\n",
    "### problema de los N cuerpos\n",
    "Hay 6N variables, pero siempre 10 constantes. Por lo tanto, no es posible resolverlo analíticamente.\n",
    "Hay algunas aproximaciones para resolver este problema.\n",
    "\n",
    "- Problema de las perturbaciones\n",
    "\n",
    "- Sistema de Lagrange de N cuerpos\n",
    "\n",
    "- Problema restringido de los 3 cuerpos\n",
    "\n",
    "- Método de las perturbaciones especiales\n",
    "\n",
    "### movimiento de mercurio\n",
    "- había discrepancia entre lo que se observaba y lo que se predecía con la teoría de Newton\n",
    "- Einstein lo soluciona, se trata de un problema relativista (efecto de la curvatura del espacio-tiempo)\n",
    "\n",
    "### Asteroides en el cinturón principal\n",
    "- Se encuentran entre Marte y Júpiter, y son los restos de la formación del sistema solar. Se trata de material que Júpiter no dejó que se acretara para formar un planeta.\n",
    "- El efecto de Júpiter con las órbitas de asteoides ...... fuerzas T y R principalmente.\n",
    "- Las brechas de kirkwood son zonas donde no hay asteroides, y se deben a resonancias orbitales con Júpiter.\n",
    "- Resonancia 1:2, 2:3, 3:4, etc. (se trata de la relación entre el periodo de un asteroide y el de Júpiter). Por ejemplo, si un asteroide tiene un periodo de 2 años y Júpiter de 3, entonces cada 6 años se alinean y el asteroide es perturbado por Júpiter. Esto hace que su órbita cambie y eventualmente se aleje del cinturón principal.\n",
    "\n",
    "### Otros ejemplos de perturbaciones\n",
    "- Las lunas marianas están en resonancia. Gegeneración de marea y calor interno.\n",
    "\n",
    "### Problema restringido de los 3 cuerpos\n",
    "- Un objeto es muy pequeño comparado con los otros dos, y no afecta a su movimiento. Por ejemplo, un satélite en órbita de la Tierra.\n",
    "- Se usa un sistema de referencia donde los dos cuerpos grandes están fijos, y el tercer cuerpo se mueve en un campo gravitacional que depende de la posición de los otros dos cuerpos. Se trata de un problema de 4 variables (x,y,z,t), y se puede resolver analíticamente.\n",
    "- Se pueden encontrar soluciones periódicas (puntos de Lagrange) y caóticas (puntos de Lyapunov)."
   ]
  },
  {
   "cell_type": "markdown",
   "id": "38fa7a1e",
   "metadata": {},
   "source": [
    "# Abril 23"
   ]
  },
  {
   "cell_type": "markdown",
   "id": "d00e60a5",
   "metadata": {},
   "source": [
    "## Formación estelar\n",
    "\n",
    "- las estrellas se forman en el medio interestelar\n",
    "- gas y polvo acuulado --> nubes moleculares gigantes (GMC) --> también conocidas como HII (ionización del hidrógeno)\n",
    "\n",
    "el hidrógeno neutro se llama HI, y el ionizado HII. El hidrógeno molecular se llama H2.\n",
    "\n",
    "- exixte la recombinacion, o emisión de luz por hidrógeno ionizado. Se trata de una nube de gas que emite luz, y se puede ver en la región de formación estelar. \n",
    "\n",
    "\n",
    "### medio interestelar\n",
    "Esto es algo que sucede en todas las galaias del universo --> puede ser un gas muy difuso (densidad muy baja)\n",
    "\n",
    "- n = 10^-4 cm^-3 (densidad del medio interestelar difuso) --> es el numero de particulas que encuentro por centimetro cubuco\n",
    "\n",
    "Las nubes moleculares gigantes tienen densidaddes del orden de 10^6 partículas por centímetro cúbico\n",
    "\n",
    "- Por ejemplo, la densidad del aire es de 10^19 partículas por centímetro cúbico\n",
    "\n",
    "- El polvo del medio interestelar se compone de silicatos (silicio, oxígeno, aluminio, hierro), hielos (H2O, CO2, CO, CH4, NH3).\n",
    "\n",
    "- las supernovas son los mejores aceleradores de partículas del universo\n",
    "\n",
    "### el hidrógeno es la principal componente \n",
    "\n",
    "- El hidrógeno es el principal componente del medio interestelar, y se encuentra en tres estados: neutro (HI), ionizado (HII) y molecular (H2). La mayor parte se encuentra en forma de hidrógeno difuso (10^-4)\n",
    "\n",
    "- El hidrogeno neutro (HI) casi no interacúa con la radiación electromagnética, lo que lo hace difícil de detectar. Se puede detectar en radio. Puede emitir en 1420 MHz, lo cual corresponde a la linea de 21 cm\n",
    "\n",
    "- HeIII significa que es el hidrógeno ionizado dos veces. El numero romano dice el nivel de ionización --> ese numero menos 1 es e numero de electrones que se han ido.\n",
    "\n",
    "- El hidrógeno molecular (H2) no emite en 21 cm, además no absorbe en el visible ni en radio\n",
    "\n",
    "### clasificacion de las nubes en el medio interrestelar\n",
    "\n",
    "**nubes difusas:** normalmente HI\n",
    "\n",
    "**nubes moleculares gigantes:** enormes acumulaciones de gas y polvo --> son zonas muy frías\n",
    "\n",
    "### Glóbulos de Bok\n",
    "\n",
    "regiones densas, pequeñas y frías que favorecen la formación de estrellas.\n",
    "\n",
    "\n",
    "Medio interestelar:\n",
    "\n",
    "- El medio interestelar se calienta por colisiones con rayos cósmicos\n",
    "- se enfría por emisión en infrarrojo.\n",
    "\n",
    "### colapso de Jeans\n",
    "\n",
    "Las estrellas se forman por el colapso de algunas zonas dentro de las NMG. Esto ocurre cuando la gravedad supera la presión térmica del gas en la nube, lo que lleva a la formación de protoestrellas.\n",
    "\n",
    "El teorema del virial me dice que en un sistema en equilibrio: \n",
    "\n",
    "$$2K + U = 0$$^\n",
    "\n",
    "con esto se deduce la expresion de la masa de jeans.\n",
    "Cuando la masa de la nube supera la masa de Jeans, hay colapso.\n",
    "\n",
    "### fragmentación de la nube en colapso\n",
    "\n",
    "El colapso es isotérmico, pero si la densidad aumenta --> la masa de jeans disminuye --> hay fragmentación porque ya la masa y el radio necesario es menor.\n",
    "las subregiones colapsan por si solas --> esto es lo que se ve como fragmentación.\n",
    "\n",
    "Etapa pre-secuencia principal: desde la nube original hasta formar un sol.\n"
   ]
  },
  {
   "cell_type": "markdown",
   "id": "b3d58b42",
   "metadata": {},
   "source": [
    "# Discos protoplanetarios\n",
    "\n",
    "\n",
    "la formación del disco se debe a la conservación del momento angular. Por ejemplo lo que está en la punta de arriba del disco, no tiene momento angular, entonces se va directo al centro. Pero lo que está a los lados y su momento angular hace que pueda seguir orbitando alrededor del centro.\n",
    "\n",
    "Por ejemplo si una partícula está en la superficie del sol:"
   ]
  },
  {
   "cell_type": "markdown",
   "id": "aa1a2c7b",
   "metadata": {},
   "source": [
    "$$\\frac{f_2}{f_1} = \\left(\\frac{r_1}{r_2}\\right)^2$$"
   ]
  },
  {
   "cell_type": "code",
   "execution_count": 1,
   "id": "99a4bc1f",
   "metadata": {},
   "outputs": [
    {
     "name": "stdout",
     "output_type": "stream",
     "text": [
      "5.160733053992119e-13\n"
     ]
    }
   ],
   "source": [
    "import numpy as np\n",
    "\n",
    "r1 = 0.326*9.46e12\n",
    "f1 = 10 / (2 * np.pi * r1)\n",
    "print(f1)"
   ]
  },
  {
   "cell_type": "code",
   "execution_count": 5,
   "id": "9172773e",
   "metadata": {},
   "outputs": [
    {
     "name": "stdout",
     "output_type": "stream",
     "text": [
      "10.01688731219758\n"
     ]
    }
   ],
   "source": [
    "r2 = 7e5\n",
    "f2 = f1 * (r1/r2)**2\n",
    "print(f2)"
   ]
  },
  {
   "cell_type": "markdown",
   "id": "c9f01212",
   "metadata": {},
   "source": [
    "La proporción de composición del disco, es casi lo mismo que el de la nube original.\n",
    "\n",
    "### clases de discos\n",
    "\n",
    "- Discos primordiales: son los que se forman alrededor de las estrellas jóvenes, y son los que dan lugar a los planetas gigantes.\n",
    "- Discos de transición: discos con algunos agujeros, limpiados probablemente por planetas gigantes o por la estrellas cuando está en su etapa t-tauri.\n",
    "- Discos de escombros: por ejemplo el del sistema solar, que es el que queda después de la formación de los planetas. "
   ]
  },
  {
   "cell_type": "markdown",
   "id": "dc4621bc",
   "metadata": {},
   "source": []
  }
 ],
 "metadata": {
  "kernelspec": {
   "display_name": "Python 3",
   "language": "python",
   "name": "python3"
  },
  "language_info": {
   "codemirror_mode": {
    "name": "ipython",
    "version": 3
   },
   "file_extension": ".py",
   "mimetype": "text/x-python",
   "name": "python",
   "nbconvert_exporter": "python",
   "pygments_lexer": "ipython3",
   "version": "3.11.9"
  }
 },
 "nbformat": 4,
 "nbformat_minor": 5
}
